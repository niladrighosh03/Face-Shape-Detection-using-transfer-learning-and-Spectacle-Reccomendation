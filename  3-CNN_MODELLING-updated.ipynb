{
 "cells": [
  {
   "cell_type": "markdown",
   "metadata": {
    "id": "F8gAChQMmIC4"
   },
   "source": [
    "# Capstone Project:  Face Shape Classification - Part 3\n",
    "\n",
    "This notebook explores Convolutional Neural Network (CNN) Models on different image datasets based on the following image preprocessing:\n",
    "\n",
    "- Model 1: Auto resized to 224 x 224\n",
    "- Model 2: Images are cropped & resized by maintaining aspect ratio\n",
    "- Model 3: Face Detection with Bounding Box in Grayscale\n",
    "- Model 4: Face Detection with Bounding Box in Color (RGB)\n",
    "\n",
    "This is initial exploratory phase to see which model generates the highest accuracy, while minimizing overfitting (gap between validation accuracy vs. training accuracy).  We will also plot confusion matrix to see how accurate is the model predicting each class (in this case, face shape).\n"
   ]
  },
  {
   "cell_type": "code",
   "execution_count": null,
   "metadata": {
    "colab": {
     "base_uri": "https://localhost:8080/"
    },
    "executionInfo": {
     "elapsed": 3885,
     "status": "ok",
     "timestamp": 1745217719890,
     "user": {
      "displayName": "Niladri Ghosh",
      "userId": "10768647531758319650"
     },
     "user_tz": -330
    },
    "id": "6wtrs_Ern5x4",
    "outputId": "526713b8-0155-4186-8e18-c6e38382ddb9"
   },
   "outputs": [
    {
     "name": "stdout",
     "output_type": "stream",
     "text": [
      "Drive already mounted at /content/drive; to attempt to forcibly remount, call drive.mount(\"/content/drive\", force_remount=True).\n"
     ]
    }
   ],
   "source": [
    "from google.colab import drive\n",
    "drive.mount('/content/drive')"
   ]
  },
  {
   "cell_type": "markdown",
   "metadata": {
    "id": "R_mNLsfoYSfI"
   },
   "source": [
    "#### Import Libraries"
   ]
  },
  {
   "cell_type": "code",
   "execution_count": null,
   "metadata": {
    "id": "WszDNMRqmIC9"
   },
   "outputs": [],
   "source": [
    "import matplotlib.pyplot as plt\n",
    "import numpy as np\n",
    "import os\n",
    "import cv2\n",
    "import random\n",
    "import torch\n",
    "import torch.nn as nn\n",
    "import torch.optim as optim\n",
    "from torch.utils.data import Dataset, DataLoader, TensorDataset\n",
    "import torchvision.transforms as transforms\n",
    "from torchvision.transforms import functional as F\n",
    "from torch.nn import Linear, Dropout, Flatten, Conv2d, MaxPool2d, AdaptiveAvgPool2d\n",
    "from torch.nn import functional as F\n",
    "import pandas as pd\n",
    "import seaborn as sns\n",
    "import pickle\n",
    "from sklearn.metrics import confusion_matrix\n",
    "import itertools\n",
    "\n",
    "%matplotlib inline"
   ]
  },
  {
   "cell_type": "markdown",
   "metadata": {
    "id": "vtPjTITGYSfK"
   },
   "source": [
    "#### Define Functions"
   ]
  },
  {
   "cell_type": "code",
   "execution_count": null,
   "metadata": {
    "id": "fk6s1oCYBl6W"
   },
   "outputs": [],
   "source": [
    "def plot_results(mod_history, metric, epochs):\n",
    "\n",
    "      # Check out our train loss and test loss over epochs.\n",
    "      train_metric = mod_history.history[metric]\n",
    "      val = 'val_' + metric\n",
    "      test_metric = mod_history.history[val]\n",
    "\n",
    "      # Set figure size.\n",
    "      plt.figure(figsize=(12, 8))\n",
    "\n",
    "      # Generate line plot of training, testing loss over epochs.\n",
    "      plt.plot(train_metric, label=f'Training {metric}', color='#185fad')\n",
    "      plt.plot(test_metric, label=f'Testing {metric}', color='orange')\n",
    "\n",
    "      # Set title\n",
    "      plt.title(f'Training and Testing {metric} by Epoch', fontsize = 25)\n",
    "      plt.xlabel('Epoch', fontsize = 18)\n",
    "      plt.ylabel('Categorical Crossentropy', fontsize = 18)\n",
    "      plt.xticks(range(0,epochs,5), range(0,epochs,5))\n",
    "      plt.legend(fontsize = 18);"
   ]
  },
  {
   "cell_type": "code",
   "execution_count": null,
   "metadata": {
    "id": "kx_huGPtYSfN"
   },
   "outputs": [],
   "source": [
    "def make_predictions(mod_name, steps=20):\n",
    "    preds = mod_name.predict(X_test,steps=steps)\n",
    "    preds = preds.argmax(axis=-1)\n",
    "\n",
    "    y_test_labels = np.argmax(y_test, axis=-1)\n",
    "\n",
    "    cm = confusion_matrix(y_test_labels,preds)\n",
    "\n",
    "    plot_confusion_matrix(cm, cm_plot_labels, normalize=True,\n",
    "                          title='Face Shape Normalized')\n",
    "\n",
    "    plt.show()\n",
    "\n"
   ]
  },
  {
   "cell_type": "code",
   "execution_count": null,
   "metadata": {
    "id": "fmce5wgeYSfP"
   },
   "outputs": [],
   "source": [
    "cm_plot_labels = ['Heart','Oblong','Oval','Round', 'Square']\n",
    "\n",
    "def plot_confusion_matrix(cm, classes,\n",
    "                          normalize=False,\n",
    "                          title='Confusion matrix',\n",
    "                          cmap=plt.cm.Blues):\n",
    "    \"\"\"\n",
    "    This function prints and plots the confusion matrix.\n",
    "    Normalization can be applied by setting `normalize=True`.\n",
    "    \"\"\"\n",
    "    if normalize:\n",
    "        cm = cm.astype('float') / cm.sum(axis=1)[:, np.newaxis]\n",
    "        print(\"Normalized confusion matrix\")\n",
    "    else:\n",
    "        print('Confusion matrix, without normalization')\n",
    "\n",
    "    print(cm)\n",
    "\n",
    "    plt.figure(figsize=(16,8))\n",
    "    plt.imshow(cm, interpolation='nearest', cmap=cmap)\n",
    "    plt.title(title)\n",
    "    plt.colorbar()\n",
    "    tick_marks = np.arange(len(classes))\n",
    "    plt.xticks(tick_marks, classes, rotation=45)\n",
    "    plt.yticks(tick_marks, classes)\n",
    "\n",
    "    fmt = '.2f' if normalize else 'd'\n",
    "    thresh = cm.max() / 2.\n",
    "    for i, j in itertools.product(range(cm.shape[0]), range(cm.shape[1])):\n",
    "        plt.text(j, i, format(cm[i, j], fmt),\n",
    "                 horizontalalignment=\"center\",\n",
    "                 color=\"white\" if cm[i, j] > thresh else \"black\")\n",
    "\n",
    "    plt.tight_layout()\n",
    "    plt.ylabel('True label')\n",
    "    plt.xlabel('Predicted label')\n"
   ]
  },
  {
   "cell_type": "code",
   "execution_count": null,
   "metadata": {
    "id": "VPsjPoQeYSfR"
   },
   "outputs": [],
   "source": [
    "def plot_summary_results(mod_name, mod_history, epochs):\n",
    "    plot_results(mod_history, 'loss',epochs)\n",
    "    plot_results(mod_history, 'accuracy', epochs)\n",
    "    make_predictions(mod_name)"
   ]
  },
  {
   "cell_type": "markdown",
   "metadata": {
    "id": "e2ySmrL_YSfV"
   },
   "source": [
    "## <span style = 'color:sienna'>Model 1: GRAYSCALE images - resize to 224x224</span>  "
   ]
  },
  {
   "cell_type": "code",
   "execution_count": null,
   "metadata": {
    "id": "kE432cqgmIDB"
   },
   "outputs": [],
   "source": [
    "path = \"/content/drive/MyDrive/CV Project/\"\n",
    "\n",
    "X_train = np.asarray(pickle.load(open(path + \"X_train_r224.pickle\",\"rb\")))\n",
    "y_train = np.asarray(pickle.load(open(path + \"y_train_r224.pickle\",\"rb\")))\n",
    "X_test = np.asarray(pickle.load(open(path + \"X_test_r224.pickle\",\"rb\")))\n",
    "y_test = np.asarray(pickle.load(open(path + \"y_test_r224.pickle\",\"rb\")))"
   ]
  },
  {
   "cell_type": "code",
   "execution_count": null,
   "metadata": {
    "colab": {
     "base_uri": "https://localhost:8080/"
    },
    "executionInfo": {
     "elapsed": 59,
     "status": "ok",
     "timestamp": 1745217720026,
     "user": {
      "displayName": "Niladri Ghosh",
      "userId": "10768647531758319650"
     },
     "user_tz": -330
    },
    "id": "y8Abu92tZU29",
    "outputId": "91f2586e-2579-4f28-a4d5-4e7891aed730"
   },
   "outputs": [
    {
     "name": "stdout",
     "output_type": "stream",
     "text": [
      "Data Summary\n",
      "--------------------\n",
      "X_train shape (510, 224, 224, 1)\n",
      "y_train shape (510, 5)\n",
      "--------------------\n",
      "X_test shape (125, 224, 224, 1)\n",
      "y_test shape (125, 5)\n"
     ]
    }
   ],
   "source": [
    "print(\"Data Summary\")\n",
    "print(\"--------------------\")\n",
    "print(f\"X_train shape {X_train.shape}\")\n",
    "print(f\"y_train shape {y_train.shape}\")\n",
    "print(\"--------------------\")\n",
    "print(f\"X_test shape {X_test.shape}\")\n",
    "print(f\"y_test shape {y_test.shape}\")"
   ]
  },
  {
   "cell_type": "code",
   "execution_count": null,
   "metadata": {
    "colab": {
     "base_uri": "https://localhost:8080/"
    },
    "executionInfo": {
     "elapsed": 145,
     "status": "ok",
     "timestamp": 1745217720201,
     "user": {
      "displayName": "Niladri Ghosh",
      "userId": "10768647531758319650"
     },
     "user_tz": -330
    },
    "id": "tGviHgwfgxzs",
    "outputId": "cfdc1016-9cea-410f-a1a6-ab1b47067f1a"
   },
   "outputs": [
    {
     "name": "stdout",
     "output_type": "stream",
     "text": [
      "CNN(\n",
      "  (conv1): Conv2d(1, 8, kernel_size=(3, 3), stride=(1, 1), padding=(1, 1))\n",
      "  (pool): MaxPool2d(kernel_size=2, stride=2, padding=0, dilation=1, ceil_mode=False)\n",
      "  (conv2): Conv2d(8, 16, kernel_size=(3, 3), stride=(1, 1), padding=(1, 1))\n",
      "  (pool2): MaxPool2d(kernel_size=2, stride=2, padding=0, dilation=1, ceil_mode=False)\n",
      "  (conv3): Conv2d(16, 64, kernel_size=(3, 3), stride=(1, 1), padding=(1, 1))\n",
      "  (pool3): MaxPool2d(kernel_size=2, stride=2, padding=0, dilation=1, ceil_mode=False)\n",
      "  (conv4): Conv2d(64, 128, kernel_size=(3, 3), stride=(1, 1), padding=(1, 1))\n",
      "  (pool4): MaxPool2d(kernel_size=2, stride=2, padding=0, dilation=1, ceil_mode=False)\n",
      "  (fc1): Linear(in_features=25088, out_features=32, bias=True)\n",
      "  (dropout): Dropout(p=0.5, inplace=False)\n",
      "  (fc2): Linear(in_features=32, out_features=5, bias=True)\n",
      ")\n",
      "Output shape: torch.Size([1, 5])\n"
     ]
    }
   ],
   "source": [
    "class CNN(nn.Module):\n",
    "    def __init__(self):\n",
    "        super(CNN, self).__init__()\n",
    "        # Input shape should be (1, 224, 224) for grayscale\n",
    "        self.conv1 = nn.Conv2d(1, 8, kernel_size=3, padding=1)  # (8, 224, 224)\n",
    "        self.pool = nn.MaxPool2d(2, 2)  # (8, 112, 112)\n",
    "        self.conv2 = nn.Conv2d(8, 16, kernel_size=3, padding=1)  # (16, 112, 112)\n",
    "        self.pool2 = nn.MaxPool2d(2, 2)  # (16, 56, 56)\n",
    "        self.conv3 = nn.Conv2d(16, 64, kernel_size=3, padding=1)  # (64, 56, 56)\n",
    "        self.pool3 = nn.MaxPool2d(2, 2)  # (64, 28, 28)\n",
    "        self.conv4 = nn.Conv2d(64, 128, kernel_size=3, padding=1)  # (128, 28, 28)\n",
    "        self.pool4 = nn.MaxPool2d(2, 2)  # (128, 14, 14)\n",
    "\n",
    "        # Calculate flattened size\n",
    "        self.flattened_size = 128 * 14 * 14\n",
    "\n",
    "        self.fc1 = nn.Linear(self.flattened_size, 32)\n",
    "        self.dropout = nn.Dropout(0.5)\n",
    "        self.fc2 = nn.Linear(32, 5)\n",
    "\n",
    "    def forward(self, x):\n",
    "        x = F.relu(self.conv1(x))\n",
    "        x = self.pool(x)\n",
    "        x = F.relu(self.conv2(x))\n",
    "        x = self.pool2(x)\n",
    "        x = F.relu(self.conv3(x))\n",
    "        x = self.pool3(x)\n",
    "        x = F.relu(self.conv4(x))\n",
    "        x = self.pool4(x)\n",
    "        x = x.view(-1, self.flattened_size)\n",
    "        x = F.relu(self.fc1(x))\n",
    "        x = self.dropout(x)\n",
    "        x = self.fc2(x)  # ❗ No softmax here\n",
    "        return x\n",
    "\n",
    "\n",
    "# Convert your data to proper PyTorch format (NCHW)\n",
    "X_train = torch.from_numpy(X_train).permute(0, 3, 1, 2).float()  # From NHWC to NCHW\n",
    "X_test = torch.from_numpy(X_test).permute(0, 3, 1, 2).float()\n",
    "\n",
    "# Initialize model\n",
    "model_1 = CNN()\n",
    "print(model_1)\n",
    "\n",
    "# Verify input/output shapes\n",
    "dummy_input = torch.randn(1, 1, 224, 224)  # Batch of 1, 1 channel, 224x224\n",
    "output = model_1(dummy_input)\n",
    "print(f\"Output shape: {output.shape}\")  # Should be [1, 5]"
   ]
  },
  {
   "cell_type": "code",
   "execution_count": null,
   "metadata": {
    "colab": {
     "base_uri": "https://localhost:8080/"
    },
    "executionInfo": {
     "elapsed": 713137,
     "status": "ok",
     "timestamp": 1745218447577,
     "user": {
      "displayName": "Niladri Ghosh",
      "userId": "10768647531758319650"
     },
     "user_tz": -330
    },
    "id": "yBR-zNkOnpZw",
    "outputId": "03c7f24a-1e50-49e0-9e48-93e99bbf3be1"
   },
   "outputs": [
    {
     "name": "stdout",
     "output_type": "stream",
     "text": [
      "Epoch [1/50] Train Loss: 1.6177 | Val Loss: 1.6132 | Val Acc: 0.2000\n",
      "Epoch [2/50] Train Loss: 1.6119 | Val Loss: 1.6129 | Val Acc: 0.2000\n",
      "Epoch [3/50] Train Loss: 1.6101 | Val Loss: 1.6117 | Val Acc: 0.2000\n",
      "Epoch [4/50] Train Loss: 1.6139 | Val Loss: 1.6117 | Val Acc: 0.2000\n",
      "Epoch [5/50] Train Loss: 1.6115 | Val Loss: 1.6116 | Val Acc: 0.2000\n",
      "Epoch [6/50] Train Loss: 1.6114 | Val Loss: 1.6118 | Val Acc: 0.2000\n",
      "Epoch [7/50] Train Loss: 1.6090 | Val Loss: 1.6117 | Val Acc: 0.2000\n",
      "Epoch [8/50] Train Loss: 1.6141 | Val Loss: 1.6112 | Val Acc: 0.2080\n",
      "Epoch [9/50] Train Loss: 1.6124 | Val Loss: 1.6115 | Val Acc: 0.2000\n",
      "Epoch [10/50] Train Loss: 1.6108 | Val Loss: 1.6114 | Val Acc: 0.2000\n",
      "Epoch [11/50] Train Loss: 1.6104 | Val Loss: 1.6115 | Val Acc: 0.2000\n",
      "Epoch [12/50] Train Loss: 1.6102 | Val Loss: 1.6112 | Val Acc: 0.2000\n",
      "Epoch [13/50] Train Loss: 1.6082 | Val Loss: 1.6109 | Val Acc: 0.2000\n",
      "Epoch [14/50] Train Loss: 1.6069 | Val Loss: 1.6117 | Val Acc: 0.2000\n",
      "Epoch [15/50] Train Loss: 1.6086 | Val Loss: 1.6106 | Val Acc: 0.2000\n",
      "Epoch [16/50] Train Loss: 1.6080 | Val Loss: 1.6106 | Val Acc: 0.2000\n",
      "Epoch [17/50] Train Loss: 1.6106 | Val Loss: 1.6106 | Val Acc: 0.2000\n",
      "Epoch [18/50] Train Loss: 1.6100 | Val Loss: 1.6111 | Val Acc: 0.2000\n",
      "Epoch [19/50] Train Loss: 1.6102 | Val Loss: 1.6115 | Val Acc: 0.2000\n",
      "Epoch [20/50] Train Loss: 1.6077 | Val Loss: 1.6102 | Val Acc: 0.2000\n",
      "Epoch [21/50] Train Loss: 1.6039 | Val Loss: 1.6114 | Val Acc: 0.2000\n",
      "Epoch [22/50] Train Loss: 1.6205 | Val Loss: 1.6111 | Val Acc: 0.2000\n",
      "Epoch [23/50] Train Loss: 1.6099 | Val Loss: 1.6109 | Val Acc: 0.2000\n",
      "Epoch [24/50] Train Loss: 1.6097 | Val Loss: 1.6109 | Val Acc: 0.2000\n",
      "Epoch [25/50] Train Loss: 1.6096 | Val Loss: 1.6108 | Val Acc: 0.2000\n",
      "Epoch [26/50] Train Loss: 1.6095 | Val Loss: 1.6108 | Val Acc: 0.2000\n",
      "Epoch [27/50] Train Loss: 1.6095 | Val Loss: 1.6107 | Val Acc: 0.2000\n",
      "Epoch [28/50] Train Loss: 1.6095 | Val Loss: 1.6107 | Val Acc: 0.2000\n",
      "Epoch [29/50] Train Loss: 1.6094 | Val Loss: 1.6103 | Val Acc: 0.2000\n",
      "Epoch [30/50] Train Loss: 1.6110 | Val Loss: 1.6099 | Val Acc: 0.2000\n",
      "Epoch [31/50] Train Loss: 1.6077 | Val Loss: 1.6103 | Val Acc: 0.2000\n",
      "Epoch [32/50] Train Loss: 1.6053 | Val Loss: 1.6095 | Val Acc: 0.2160\n",
      "Epoch [33/50] Train Loss: 1.6011 | Val Loss: 1.6082 | Val Acc: 0.2240\n",
      "Epoch [34/50] Train Loss: 1.6035 | Val Loss: 1.6065 | Val Acc: 0.2240\n",
      "Epoch [35/50] Train Loss: 1.6012 | Val Loss: 1.6060 | Val Acc: 0.2320\n",
      "Epoch [36/50] Train Loss: 1.5995 | Val Loss: 1.6065 | Val Acc: 0.2240\n",
      "Epoch [37/50] Train Loss: 1.5946 | Val Loss: 1.6080 | Val Acc: 0.2160\n",
      "Epoch [38/50] Train Loss: 1.5974 | Val Loss: 1.6090 | Val Acc: 0.1920\n",
      "Epoch [39/50] Train Loss: 1.5932 | Val Loss: 1.6079 | Val Acc: 0.2080\n",
      "Epoch [40/50] Train Loss: 1.5903 | Val Loss: 1.6121 | Val Acc: 0.2080\n",
      "Epoch [41/50] Train Loss: 1.5769 | Val Loss: 1.6130 | Val Acc: 0.2000\n",
      "Epoch [42/50] Train Loss: 1.5909 | Val Loss: 1.6156 | Val Acc: 0.1840\n",
      "Epoch [43/50] Train Loss: 1.5847 | Val Loss: 1.6154 | Val Acc: 0.1760\n",
      "Epoch [44/50] Train Loss: 1.5868 | Val Loss: 1.6193 | Val Acc: 0.2080\n",
      "Epoch [45/50] Train Loss: 1.5831 | Val Loss: 1.6216 | Val Acc: 0.1920\n",
      "Epoch [46/50] Train Loss: 1.5737 | Val Loss: 1.6162 | Val Acc: 0.2080\n",
      "Epoch [47/50] Train Loss: 1.5608 | Val Loss: 1.6200 | Val Acc: 0.1920\n",
      "Epoch [48/50] Train Loss: 1.5609 | Val Loss: 1.6207 | Val Acc: 0.2080\n",
      "Epoch [49/50] Train Loss: 1.5537 | Val Loss: 1.6163 | Val Acc: 0.1920\n",
      "Epoch [50/50] Train Loss: 1.5431 | Val Loss: 1.6221 | Val Acc: 0.2240\n"
     ]
    }
   ],
   "source": [
    "import torch\n",
    "from torch import nn, optim\n",
    "from torch.utils.data import TensorDataset, DataLoader\n",
    "from sklearn.metrics import accuracy_score\n",
    "\n",
    "'''Uncomment while running 1st time'''\n",
    "# Convert y_train and y_test to torch tensors (assumed to be integers for classification)\n",
    "y_train = torch.from_numpy(y_train).long()\n",
    "y_test = torch.from_numpy(y_test).long()\n",
    "\n",
    "# Create DataLoaders\n",
    "train_dataset = TensorDataset(X_train, y_train)\n",
    "test_dataset = TensorDataset(X_test, y_test)\n",
    "\n",
    "train_loader = DataLoader(train_dataset, batch_size=32, shuffle=True)\n",
    "val_loader = DataLoader(test_dataset, batch_size=32)\n",
    "\n",
    "# Initialize model, loss, optimizer\n",
    "model_1 = CNN()\n",
    "criterion = nn.CrossEntropyLoss()\n",
    "optimizer = optim.Adam(model_1.parameters(), lr=0.001)\n",
    "\n",
    "# To track history\n",
    "history_1 = {'train_loss': [], 'val_loss': [], 'val_acc': []}\n",
    "\n",
    "# Move model to GPU if available\n",
    "device = torch.device(\"cuda\" if torch.cuda.is_available() else \"cpu\")\n",
    "model_1.to(device)\n",
    "\n",
    "# Training loop\n",
    "epochs = 50\n",
    "for epoch in range(epochs):\n",
    "    model_1.train()\n",
    "    running_loss = 0.0\n",
    "\n",
    "    for images, labels in train_loader:\n",
    "        images, labels = images.to(device), labels.to(device)\n",
    "\n",
    "        optimizer.zero_grad()\n",
    "        outputs = model_1(images)\n",
    "\n",
    "        labels = labels.argmax(dim=1)\n",
    "        loss = criterion(outputs, labels)\n",
    "        loss.backward()\n",
    "        optimizer.step()\n",
    "\n",
    "        running_loss += loss.item() * images.size(0)\n",
    "\n",
    "    epoch_loss = running_loss / len(train_loader.dataset)\n",
    "    history_1['train_loss'].append(epoch_loss)\n",
    "\n",
    "    # Validation\n",
    "    model_1.eval()\n",
    "    val_loss = 0.0\n",
    "    all_preds = []\n",
    "    all_labels = []\n",
    "\n",
    "    with torch.no_grad():\n",
    "        for val_images, val_labels in val_loader:\n",
    "            val_images, val_labels = val_images.to(device), val_labels.to(device)\n",
    "            val_outputs = model_1(val_images)\n",
    "\n",
    "            # Convert val_labels to class indices\n",
    "            val_labels_indices = val_labels.argmax(dim=1)\n",
    "\n",
    "            loss = criterion(val_outputs, val_labels_indices) # Use class indices for loss calculation\n",
    "            val_loss += loss.item() * val_images.size(0)\n",
    "\n",
    "            preds = torch.argmax(val_outputs, dim=1)\n",
    "            all_preds.extend(preds.cpu().numpy())\n",
    "            all_labels.extend(val_labels_indices.cpu().numpy()) # Store class indices in all_labels\n",
    "\n",
    "    val_loss /= len(val_loader.dataset)\n",
    "    val_acc = accuracy_score(all_labels, all_preds)\n",
    "    history_1['val_loss'].append(val_loss)\n",
    "    history_1['val_acc'].append(val_acc)\n",
    "\n",
    "    print(f\"Epoch [{epoch+1}/{epochs}] \"\n",
    "          f\"Train Loss: {epoch_loss:.4f} | \"\n",
    "          f\"Val Loss: {val_loss:.4f} | Val Acc: {val_acc:.4f}\")\n"
   ]
  },
  {
   "cell_type": "code",
   "execution_count": null,
   "metadata": {
    "colab": {
     "base_uri": "https://localhost:8080/"
    },
    "executionInfo": {
     "elapsed": 64,
     "status": "ok",
     "timestamp": 1745218580791,
     "user": {
      "displayName": "Niladri Ghosh",
      "userId": "10768647531758319650"
     },
     "user_tz": -330
    },
    "id": "qinXi7FgHbW4",
    "outputId": "927d1444-6967-4173-ecc5-f3bd667c695d"
   },
   "outputs": [
    {
     "name": "stdout",
     "output_type": "stream",
     "text": [
      "\n",
      "Best validation accuracy: 0.2320 at epoch 35\n"
     ]
    }
   ],
   "source": [
    "max_val_acc = max(history_1['val_acc']) #❗ Use history_1 as this was updated during training\n",
    "best_epoch = history_1['val_acc'].index(max_val_acc) + 1 #❗ Use history_1 as this was updated during training\n",
    "\n",
    "print(f\"\\nBest validation accuracy: {max_val_acc:.4f} at epoch {best_epoch}\")"
   ]
  },
  {
   "cell_type": "markdown",
   "metadata": {
    "id": "n7m6fIDDzH9m"
   },
   "source": [
    "Maximum validation accuracy is 42.7%, however is highly overfitting compared to training accuracy of 73.9%."
   ]
  },
  {
   "cell_type": "code",
   "execution_count": null,
   "metadata": {
    "colab": {
     "base_uri": "https://localhost:8080/"
    },
    "executionInfo": {
     "elapsed": 1649,
     "status": "ok",
     "timestamp": 1745218585414,
     "user": {
      "displayName": "Niladri Ghosh",
      "userId": "10768647531758319650"
     },
     "user_tz": -330
    },
    "id": "4KhAjHraiVe9",
    "outputId": "26868ec7-e796-452b-8ef8-17cc02d7c3c9"
   },
   "outputs": [
    {
     "name": "stdout",
     "output_type": "stream",
     "text": [
      "Test Loss: 1.6221, Test Accuracy: 0.2240\n"
     ]
    }
   ],
   "source": [
    "def evaluate(model, X_test, y_test, batch_size=4):\n",
    "    # Set model to evaluation mode\n",
    "    model.eval()\n",
    "\n",
    "    # Create DataLoader\n",
    "    test_dataset = TensorDataset(X_test, y_test)\n",
    "    test_loader = DataLoader(test_dataset, batch_size=batch_size, shuffle=False)\n",
    "\n",
    "    # Initialize metrics\n",
    "    test_loss = 0.0\n",
    "    correct = 0\n",
    "    total = 0\n",
    "\n",
    "    # Disable gradient calculation\n",
    "    with torch.no_grad():\n",
    "        for inputs, labels in test_loader:\n",
    "            # Forward pass\n",
    "            outputs = model(inputs)\n",
    "\n",
    "            labels = labels.argmax(dim=1).long()\n",
    "\n",
    "            loss = F.cross_entropy(outputs, labels)\n",
    "\n",
    "            # Update metrics\n",
    "            test_loss += loss.item() * inputs.size(0)\n",
    "            _, predicted = torch.max(outputs.data, 1)\n",
    "            total += labels.size(0)\n",
    "            correct += (predicted == labels).sum().item()\n",
    "\n",
    "    # Calculate final metrics\n",
    "    test_loss = test_loss / total\n",
    "    test_acc = correct / total\n",
    "\n",
    "    return test_loss, test_acc\n",
    "\n",
    "# Usage example:\n",
    "test_loss, test_acc = evaluate(model_1, X_test, y_test)\n",
    "print(f\"Test Loss: {test_loss:.4f}, Test Accuracy: {test_acc:.4f}\")"
   ]
  },
  {
   "cell_type": "code",
   "execution_count": null,
   "metadata": {
    "id": "ejDL_PzOuuLS"
   },
   "outputs": [],
   "source": [
    "def plot_results(mod_history, metric, epochs):\n",
    "    \"\"\"\n",
    "    Plots training and validation metrics over epochs.\n",
    "\n",
    "    Args:\n",
    "        mod_history (dict): Dictionary containing training history\n",
    "        metric (str): Metric to plot ('loss' or 'acc')\n",
    "        epochs (int): Number of training epochs\n",
    "    \"\"\"\n",
    "    plt.figure(figsize=(10, 5))\n",
    "\n",
    "    # Get the metrics\n",
    "    # Changed from 'train_{metric}' to 'train_loss' if metric is 'acc'\n",
    "    train_metric = mod_history[f'train_{metric}'] if metric != 'acc' else mod_history['train_loss']\n",
    "    val_metric = mod_history[f'val_{metric}'] if f'val_{metric}' in mod_history else mod_history[f'val_acc'] if metric == 'acc' else None #❗ Added check for val_acc\n",
    "\n",
    "    # Create epochs range\n",
    "    epochs_range = range(1, epochs + 1)\n",
    "\n",
    "    # Plot the metrics\n",
    "    plt.plot(epochs_range, train_metric, label=f'Training {metric}')\n",
    "    if val_metric is not None: #❗ Only plot if val_metric is available\n",
    "        plt.plot(epochs_range, val_metric, label=f'Validation {metric}')\n",
    "\n",
    "    plt.title(f'Training and Validation {metric.capitalize()}')\n",
    "    plt.xlabel('Epochs')\n",
    "    plt.ylabel(metric.capitalize())\n",
    "    plt.legend()\n",
    "    plt.grid(True)\n",
    "    plt.show()\n",
    "\n",
    "def plot_summary_results(mod_name, mod_history, epochs):\n",
    "    \"\"\"\n",
    "    Plots loss and accuracy curves and makes predictions.\n",
    "\n",
    "    Args:\n",
    "        mod_name: PyTorch model\n",
    "        mod_history (dict): Training history dictionary\n",
    "        epochs (int): Number of training epochs\n",
    "    \"\"\"\n",
    "    # Plot loss and accuracy\n",
    "    plot_results(mod_history, 'loss', epochs)\n",
    "    plot_results(mod_history, 'acc', epochs)  # Changed from 'accuracy' to 'acc'\n",
    "\n",
    "    # If you have a make_predictions function, call it here\n",
    "    # make_predictions(mod_name)"
   ]
  },
  {
   "cell_type": "code",
   "execution_count": null,
   "metadata": {
    "colab": {
     "base_uri": "https://localhost:8080/",
     "height": 957
    },
    "executionInfo": {
     "elapsed": 458,
     "status": "ok",
     "timestamp": 1745218592848,
     "user": {
      "displayName": "Niladri Ghosh",
      "userId": "10768647531758319650"
     },
     "user_tz": -330
    },
    "id": "cHvc1PtsQPTx",
    "outputId": "0e6bc04f-f1fb-43fc-b6c7-c9a887d680f2"
   },
   "outputs": [
    {
     "data": {
      "image/png": "[encoded data removed]",
      "text/plain": [
       "<Figure size 1000x500 with 1 Axes>"
      ]
     },
     "metadata": {},
     "output_type": "display_data"
    },
    {
     "data": {
      "image/png": "[encoded data removed]",
      "text/plain": [
       "<Figure size 1000x500 with 1 Axes>"
      ]
     },
     "metadata": {},
     "output_type": "display_data"
    }
   ],
   "source": [
    "plot_summary_results(model_1, history_1, 50)"
   ]
  },
  {
   "cell_type": "markdown",
   "metadata": {
    "id": "UTLeBQLrbI0Z"
   },
   "source": [
    "## Save the model and weights"
   ]
  },
  {
   "cell_type": "code",
   "execution_count": null,
   "metadata": {
    "id": "vK9O5FDaFJ7S"
   },
   "outputs": [],
   "source": [
    "\n",
    "\n",
    "model_path = '/content/drive/MyDrive/CV Project/save models/'\n",
    "filename = model_path + 'rgb_oct12_3.pth'  # change the filename for new iterations\n",
    "\n",
    "# Save the model's state_dict and optimizer's state_dict\n",
    "torch.save({\n",
    "    'model_state_dict': model_1.state_dict(),\n",
    "    'optimizer_state_dict': optimizer.state_dict(),\n",
    "}, filename)"
   ]
  }
 ],
 "metadata": {
  "colab": {
   "collapsed_sections": [
    "xd9igVSDYSfg",
    "YCu8XJhjYSfq",
    "JgHCiOU9YSf0"
   ],
   "provenance": [
    {
     "file_id": "https://github.com/Pratch-yani/Face_Shape_Classification/blob/main/3_CNN_MODELLING_updated.ipynb",
     "timestamp": 1745167248826
    }
   ]
  },
  "kernelspec": {
   "display_name": "Python 3",
   "language": "python",
   "name": "python3"
  },
  "language_info": {
   "codemirror_mode": {
    "name": "ipython",
    "version": 3
   },
   "file_extension": ".py",
   "mimetype": "text/x-python",
   "name": "python",
   "nbconvert_exporter": "python",
   "pygments_lexer": "ipython3",
   "version": "3.8.2"
  }
 },
 "nbformat": 4,
 "nbformat_minor": 0
}
